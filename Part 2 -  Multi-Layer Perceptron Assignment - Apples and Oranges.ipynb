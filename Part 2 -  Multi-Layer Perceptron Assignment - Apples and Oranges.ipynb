{
 "cells": [
  {
   "cell_type": "markdown",
   "metadata": {},
   "source": [
    "# Multi-Layer Perceptron Assignment"
   ]
  },
  {
   "cell_type": "code",
   "execution_count": 1,
   "metadata": {},
   "outputs": [],
   "source": [
    "import numpy as np \n",
    "import pandas as pd"
   ]
  },
  {
   "cell_type": "code",
   "execution_count": 2,
   "metadata": {},
   "outputs": [],
   "source": [
    "def Sigmoid(Z):\n",
    "    ''' the sigmoid function'''\n",
    "    return 1/(1+np.exp(-Z))\n",
    "\n",
    "def dSigmoid(Z):\n",
    "    ''' the derivative of sigmoid function'''\n",
    "    s = 1/(1+np.exp(-Z))\n",
    "    dZ = s * (1-s)\n",
    "    return dZ"
   ]
  },
  {
   "cell_type": "markdown",
   "metadata": {},
   "source": [
    "### Initialize neural network "
   ]
  },
  {
   "cell_type": "code",
   "execution_count": 3,
   "metadata": {},
   "outputs": [],
   "source": [
    "nn = {\n",
    "'x1': 70, \n",
    "'x2': 16 ,\n",
    "'w1': 0.15,\n",
    "'w2': 0.20,\n",
    "'w3': 0.25,\n",
    "'w4': 0.30,\n",
    "'w5': 0.40,\n",
    "'w6': 0.45,\n",
    "'w7': 0.50,\n",
    "'w8': 0.55, \n",
    "'target1': 1.0,\n",
    "'target2': 0.0,\n",
    "'eta' : 0.1\n",
    "}"
   ]
  },
  {
   "cell_type": "markdown",
   "metadata": {},
   "source": [
    "<img src=\"network.png\" width=\"350\">"
   ]
  },
  {
   "cell_type": "markdown",
   "metadata": {},
   "source": [
    "### The Forward pass\n",
    "\n",
    "Calculate the weighted sum and output for both hidden layers and both outputs. \n",
    "\n",
    "$net_{h1} = w_1*x_1 + w_2 * x_2$\n",
    "\n",
    "$out_{h1} = $\n",
    "$\\frac{1}{1 + e^{-net_{h1}}}$\n",
    "\n"
   ]
  },
  {
   "cell_type": "code",
   "execution_count": 4,
   "metadata": {},
   "outputs": [],
   "source": [
    "def forward(nn):\n",
    "    #######\n",
    "    \n",
    "    return nn"
   ]
  },
  {
   "cell_type": "markdown",
   "metadata": {},
   "source": [
    "### Error calculation \n",
    "\n",
    "The squared error function\n",
    "\n",
    "$E_{total} = \\sum\\frac{1}{2}(target - output)^2$"
   ]
  },
  {
   "cell_type": "code",
   "execution_count": 5,
   "metadata": {},
   "outputs": [],
   "source": [
    "def calc_error(nn):\n",
    "    ##########\n",
    "    \n",
    "    return nn"
   ]
  },
  {
   "cell_type": "markdown",
   "metadata": {},
   "source": [
    "### The backwards pass\n",
    "\n",
    "$\\frac{\\partial E_{total}}{\\partial w_5} = \\frac{\\partial E_{total}}{\\partial out_{o1}} * \\frac{\\partial out_{o1}}{\\partial net_{o1}} * \\frac{\\partial net_{o1}}{\\partial w_5}$\n",
    "\n",
    "\n",
    "$\\frac{\\partial E_{total}}{\\partial w_1} = \\frac{\\partial E_{total}}{\\partial out_{h1}} * \\frac{\\partial out_{h1}}{\\partial net_{h1}} * \\frac{\\partial net_{h1}}{\\partial w_1}$\n"
   ]
  },
  {
   "cell_type": "markdown",
   "metadata": {},
   "source": [
    "### Check your work\n",
    "\n",
    "After running one backward pass (calling backward(nn) once), your values should be:\n",
    "\n",
    " 'w1': 0.07510107754711555,\n",
    " \n",
    " 'w2': 0.18288024629648356,\n",
    " \n",
    " 'w3': 0.16852474274223866,\n",
    " \n",
    " 'w4': 0.2813770840553688,\n",
    " \n",
    " 'w5': 0.4066375399108027,\n",
    " \n",
    " 'w6': 0.45663754735971357,\n",
    " \n",
    " 'w7': 0.48380575740490334,\n",
    " \n",
    " 'w8': 0.5338057392310812"
   ]
  },
  {
   "cell_type": "code",
   "execution_count": 6,
   "metadata": {},
   "outputs": [],
   "source": [
    "def backward(nn):\n",
    "    ####### output weights \n",
    "    ## w5\n",
    "    \n",
    "    ## w6\n",
    "    \n",
    "    ## w7\n",
    "    \n",
    "    ## w8\n",
    "    \n",
    "    ####### hidden weights \n",
    "    ## w1\n",
    "    \n",
    "    ## w2\n",
    "    \n",
    "    ## w3\n",
    "    \n",
    "    ## w4\n",
    "    \n",
    "    \n",
    "    return nn "
   ]
  },
  {
   "cell_type": "code",
   "execution_count": 7,
   "metadata": {},
   "outputs": [],
   "source": [
    "def run_network(nn, niters = 100):\n",
    "    #############\n",
    "    \n",
    "    return nn "
   ]
  }
 ],
 "metadata": {
  "kernelspec": {
   "display_name": "Python 3 (ipykernel)",
   "language": "python",
   "name": "python3"
  },
  "language_info": {
   "codemirror_mode": {
    "name": "ipython",
    "version": 3
   },
   "file_extension": ".py",
   "mimetype": "text/x-python",
   "name": "python",
   "nbconvert_exporter": "python",
   "pygments_lexer": "ipython3",
   "version": "3.10.9"
  }
 },
 "nbformat": 4,
 "nbformat_minor": 2
}
