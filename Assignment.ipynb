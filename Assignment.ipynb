{
 "cells": [
  {
   "cell_type": "markdown",
   "metadata": {},
   "source": [
    "## Assignment: Classify apples and oranges with a perceptron \n"
   ]
  },
  {
   "cell_type": "code",
   "execution_count": 1,
   "metadata": {},
   "outputs": [],
   "source": [
    "import numpy as np \n",
    "%matplotlib inline\n",
    "import pandas as pd\n",
    "import matplotlib.pyplot as plt \n",
    "import seaborn as sns\n",
    "import math"
   ]
  },
  {
   "cell_type": "markdown",
   "metadata": {},
   "source": [
    "## Data Cleaning (Optional): "
   ]
  },
  {
   "cell_type": "markdown",
   "metadata": {},
   "source": [
    "### Import the data"
   ]
  },
  {
   "cell_type": "code",
   "execution_count": 6,
   "metadata": {},
   "outputs": [
    {
     "data": {
      "text/html": [
       "<div>\n",
       "<style scoped>\n",
       "    .dataframe tbody tr th:only-of-type {\n",
       "        vertical-align: middle;\n",
       "    }\n",
       "\n",
       "    .dataframe tbody tr th {\n",
       "        vertical-align: top;\n",
       "    }\n",
       "\n",
       "    .dataframe thead th {\n",
       "        text-align: right;\n",
       "    }\n",
       "</style>\n",
       "<table border=\"1\" class=\"dataframe\">\n",
       "  <thead>\n",
       "    <tr style=\"text-align: right;\">\n",
       "      <th></th>\n",
       "      <th>fruit_label</th>\n",
       "      <th>fruit_name</th>\n",
       "      <th>mass</th>\n",
       "      <th>width</th>\n",
       "      <th>height</th>\n",
       "      <th>color_score</th>\n",
       "    </tr>\n",
       "  </thead>\n",
       "  <tbody>\n",
       "    <tr>\n",
       "      <th>0</th>\n",
       "      <td>0</td>\n",
       "      <td>apple</td>\n",
       "      <td>140</td>\n",
       "      <td>7.3</td>\n",
       "      <td>7.1</td>\n",
       "      <td>0.87</td>\n",
       "    </tr>\n",
       "    <tr>\n",
       "      <th>1</th>\n",
       "      <td>1</td>\n",
       "      <td>orange</td>\n",
       "      <td>140</td>\n",
       "      <td>6.7</td>\n",
       "      <td>7.1</td>\n",
       "      <td>0.72</td>\n",
       "    </tr>\n",
       "    <tr>\n",
       "      <th>2</th>\n",
       "      <td>0</td>\n",
       "      <td>apple</td>\n",
       "      <td>152</td>\n",
       "      <td>7.6</td>\n",
       "      <td>7.3</td>\n",
       "      <td>0.69</td>\n",
       "    </tr>\n",
       "    <tr>\n",
       "      <th>3</th>\n",
       "      <td>1</td>\n",
       "      <td>orange</td>\n",
       "      <td>142</td>\n",
       "      <td>7.6</td>\n",
       "      <td>7.8</td>\n",
       "      <td>0.75</td>\n",
       "    </tr>\n",
       "    <tr>\n",
       "      <th>4</th>\n",
       "      <td>1</td>\n",
       "      <td>orange</td>\n",
       "      <td>144</td>\n",
       "      <td>6.8</td>\n",
       "      <td>7.4</td>\n",
       "      <td>0.75</td>\n",
       "    </tr>\n",
       "  </tbody>\n",
       "</table>\n",
       "</div>"
      ],
      "text/plain": [
       "   fruit_label fruit_name  mass  width  height  color_score\n",
       "0            0      apple   140    7.3     7.1         0.87\n",
       "1            1     orange   140    6.7     7.1         0.72\n",
       "2            0      apple   152    7.6     7.3         0.69\n",
       "3            1     orange   142    7.6     7.8         0.75\n",
       "4            1     orange   144    6.8     7.4         0.75"
      ]
     },
     "execution_count": 6,
     "metadata": {},
     "output_type": "execute_result"
    }
   ],
   "source": [
    "fruits = pd.read_table('resources/apples_n_oranges.txt')\n",
    "fruits.head()"
   ]
  },
  {
   "cell_type": "code",
   "execution_count": 14,
   "metadata": {},
   "outputs": [
    {
     "name": "stdout",
     "output_type": "stream",
     "text": [
      "fruit_name\n",
      "apple     19\n",
      "orange    19\n",
      "dtype: int64\n"
     ]
    }
   ],
   "source": [
    "print(fruits.groupby('fruit_name').size())"
   ]
  },
  {
   "cell_type": "markdown",
   "metadata": {},
   "source": [
    "## Prepare the data for training"
   ]
  },
  {
   "cell_type": "markdown",
   "metadata": {},
   "source": [
    "### We split the data into training data (80% of the data) and testing data (20% of the data)\n",
    "#### Hint: Use pandas functions \"sample\" and \"drop\" "
   ]
  },
  {
   "cell_type": "code",
   "execution_count": 15,
   "metadata": {},
   "outputs": [],
   "source": [
    "train = fruits.sample(frac=0.8, random_state=200)\n",
    "test = fruits.drop(train.index)"
   ]
  },
  {
   "cell_type": "markdown",
   "metadata": {},
   "source": [
    "### Our X values are the fruit's mass, width, height and color score. Our Y values are the fruit_label (0 for apple, 1 for orange). We separate the data into X values and Y values \n",
    "#### You should have 4 variables: x_train, x_test, y_train, y_test "
   ]
  },
  {
   "cell_type": "code",
   "execution_count": 16,
   "metadata": {},
   "outputs": [],
   "source": [
    "feature_names = ['mass', 'width', 'height', 'color_score']\n",
    "train = fruits.sample(frac=0.8, random_state=200)\n",
    "test = fruits.drop(train.index)\n",
    "X_train, y_train = train[feature_names], train['fruit_label']\n",
    "X_test, y_test = test[feature_names], test['fruit_label']"
   ]
  },
  {
   "cell_type": "markdown",
   "metadata": {},
   "source": [
    "### If you look at the data, you'll notice some values are quite large (like mass) and some are quite small (like color_score). This can result in over-weighting input values. We scale each of the features from 0-1."
   ]
  },
  {
   "cell_type": "code",
   "execution_count": 3,
   "metadata": {},
   "outputs": [],
   "source": [
    "def MinMaxScaler(x):\n",
    "    ''' Transforms features by scaling each feature to range (0,1)'''\n",
    "    scaled_xs = [] \n",
    "    x_min = np.min(x)\n",
    "    x_max = np.max(x)\n",
    "    for v in x:\n",
    "        x_std = (v - x_min) / (x_max - x_min)\n",
    "        x_scaled = x_std * (1 - 0) + 0\n",
    "        scaled_xs.append(x_scaled)\n",
    "    return scaled_xs "
   ]
  },
  {
   "cell_type": "code",
   "execution_count": 17,
   "metadata": {},
   "outputs": [],
   "source": [
    "X_train_scaled = pd.DataFrame()\n",
    "X_test_scaled = pd.DataFrame()\n",
    "X_train_scaled['mass'] = MinMaxScaler(X_train['mass'])\n",
    "X_train_scaled['width'] = MinMaxScaler(X_train['width'])\n",
    "X_train_scaled['height'] = MinMaxScaler(X_train['height'])\n",
    "X_train_scaled['color_score'] = MinMaxScaler(X_train['color_score'])\n",
    "X_test_scaled['mass'] = MinMaxScaler(X_test['mass'])\n",
    "X_test_scaled['width'] = MinMaxScaler(X_test['width'])\n",
    "X_test_scaled['height'] = MinMaxScaler(X_test['height'])\n",
    "X_test_scaled['color_score'] = MinMaxScaler(X_test['color_score'])"
   ]
  },
  {
   "cell_type": "code",
   "execution_count": 18,
   "metadata": {},
   "outputs": [
    {
     "data": {
      "text/plain": [
       "mass           0.054054\n",
       "width          0.310345\n",
       "height         0.192308\n",
       "color_score    0.368421\n",
       "Name: 0, dtype: float64"
      ]
     },
     "execution_count": 18,
     "metadata": {},
     "output_type": "execute_result"
    }
   ],
   "source": [
    "X_train_scaled.iloc[0]"
   ]
  },
  {
   "cell_type": "markdown",
   "metadata": {},
   "source": [
    "## Train a perceptron to classify apples and oranges\n"
   ]
  },
  {
   "cell_type": "markdown",
   "metadata": {},
   "source": [
    "# Assignment Start Here ...\n",
    "\n",
    "Let's first start by initializing the learning rate and the number of epochs."
   ]
  },
  {
   "cell_type": "code",
   "execution_count": 1,
   "metadata": {},
   "outputs": [],
   "source": [
    "learning_rate = 0.001 ## how large of updates should we make at each step\n",
    "epochs = 1000 ## number of times to iterate through all the training set examples and update the weights"
   ]
  },
  {
   "cell_type": "markdown",
   "metadata": {},
   "source": [
    "Here, we define an accuracy function to help us evaluate the model:"
   ]
  },
  {
   "cell_type": "code",
   "execution_count": 4,
   "metadata": {},
   "outputs": [],
   "source": [
    "def accuracy(n_correct, n_total):\n",
    "    accuracy = n_correct / n_total\n",
    "    print('Accuracy is ' + str(100*accuracy) + '%')\n",
    "    return accuracy "
   ]
  },
  {
   "cell_type": "markdown",
   "metadata": {},
   "source": [
    "This is the part where you define a model and train it on the data."
   ]
  },
  {
   "cell_type": "code",
   "execution_count": null,
   "metadata": {},
   "outputs": [],
   "source": [
    "for _ in range(epochs):\n",
    "    n_correct = 0 \n",
    "    for idx in range(len(X_train_scaled)):\n",
    "        \n",
    "        X = X_train_scaled.iloc[idx]\n",
    "        Y = y_train.iloc[idx]\n",
    "        \n",
    "        ### Fill in: Forward Pass\n",
    "        \n",
    "        \n",
    "        \n",
    "\n",
    "        ### calculate the error \n",
    "        error = Y - output\n",
    "        if (error==0):\n",
    "            n_correct +=1\n",
    "            \n",
    "        \n",
    "        ### Fill in: Backpropagation and Gradient update\n",
    "        \n",
    "        \n",
    "        \n",
    "        \n",
    "        \n",
    "    print('Epoch : ' + str(_))\n",
    "    accuracy(n_correct, len(X_train_scaled))\n",
    "    "
   ]
  },
  {
   "cell_type": "markdown",
   "metadata": {},
   "source": [
    "## Let's evaluate the model\n",
    "\n",
    "Aim to get an accuracy of $>$ 85%"
   ]
  },
  {
   "cell_type": "code",
   "execution_count": 22,
   "metadata": {},
   "outputs": [
    {
     "name": "stdout",
     "output_type": "stream",
     "text": [
      "Accuracy is 87.5%\n"
     ]
    }
   ],
   "source": [
    "n_correct = 0 \n",
    "for idx in range(len(X_test_scaled)):\n",
    "    \n",
    "    \n",
    "    X = X_test_scaled.iloc[idx]\n",
    "    Y = y_test.iloc[idx]\n",
    "\n",
    "    ### Fill in: Calculate the model output\n",
    "    \n",
    "    \n",
    "    if(activation == Y):\n",
    "        n_correct += 1\n",
    "    \n",
    "accuracy = n_correct / len(X_test)\n",
    "print('Accuracy is ' + str(100*accuracy) + '%')"
   ]
  }
 ],
 "metadata": {
  "kernelspec": {
   "display_name": "Python 3 (ipykernel)",
   "language": "python",
   "name": "python3"
  },
  "language_info": {
   "codemirror_mode": {
    "name": "ipython",
    "version": 3
   },
   "file_extension": ".py",
   "mimetype": "text/x-python",
   "name": "python",
   "nbconvert_exporter": "python",
   "pygments_lexer": "ipython3",
   "version": "3.10.9"
  }
 },
 "nbformat": 4,
 "nbformat_minor": 2
}
